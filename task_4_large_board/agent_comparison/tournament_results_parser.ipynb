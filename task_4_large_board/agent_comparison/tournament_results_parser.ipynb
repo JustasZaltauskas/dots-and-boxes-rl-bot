{
 "cells": [
  {
   "cell_type": "code",
   "execution_count": 1,
   "metadata": {},
   "outputs": [],
   "source": [
    "import pandas as pd\n",
    "\n",
    "filenames = [\n",
    "    \"alphazero-sim10_mcts_7x7.txt\",\n",
    "    \"alphazero-sim75_mcts_7x7.txt\",\n",
    "    \"alphazero-sim10_random_7x7.txt\",\n",
    "    \"alphazero-sim75_random_7x7.txt\",\n",
    "    \"alphazero-sim10_firstopen_7x7.txt\",\n",
    "    \"alphazero-sim75_firstopen_7x7.txt\",\n",
    "    \"mcts_random_7x7.txt\",\n",
    "    \"mcts_firstopen_7x7.txt\",\n",
    "    \"random_firstopen_7x7.txt\"\n",
    "]"
   ]
  },
  {
   "cell_type": "code",
   "execution_count": 2,
   "metadata": {},
   "outputs": [],
   "source": [
    "def flip_agents(row):\n",
    "    agent_p1 = row['agent_p1']\n",
    "    row['agent_p1'] = row['agent_p2']\n",
    "    row['agent_p2'] = agent_p1\n",
    "\n",
    "    return_p1 = row['return_p1']\n",
    "    row['return_p1'] = row['return_p2']\n",
    "    row['return_p2'] = return_p1\n",
    "    return row"
   ]
  },
  {
   "cell_type": "code",
   "execution_count": 3,
   "metadata": {},
   "outputs": [
    {
     "name": "stdout",
     "output_type": "stream",
     "text": [
      "alphazero-sim10_mcts_7x7.txt\n",
      "az win rate: 0.025\n",
      "mcts win rate: 0.975\n",
      "az average return: -0.95\n",
      "mcts average return: 0.95\n",
      "\n",
      "alphazero-sim75_mcts_7x7.txt\n",
      "az win rate: 0.125\n",
      "mcts win rate: 0.875\n",
      "az average return: -0.75\n",
      "mcts average return: 0.75\n",
      "\n",
      "alphazero-sim10_random_7x7.txt\n",
      "alphazero win rate: 0.4\n",
      "random win rate: 0.6\n",
      "alphazero average return: -0.2\n",
      "random average return: 0.2\n",
      "\n",
      "alphazero-sim75_random_7x7.txt\n",
      "alphazero win rate: 0.6\n",
      "random win rate: 0.4\n",
      "alphazero average return: 0.2\n",
      "random average return: -0.2\n",
      "\n",
      "alphazero-sim10_firstopen_7x7.txt\n",
      "az win rate: 0.5\n",
      "firstopen win rate: 0.5\n",
      "az average return: 0.0\n",
      "firstopen average return: 0.0\n",
      "\n",
      "alphazero-sim75_firstopen_7x7.txt\n",
      "az win rate: 0.5\n",
      "firstopen win rate: 0.5\n",
      "az average return: 0.0\n",
      "firstopen average return: 0.0\n",
      "\n",
      "mcts_random_7x7.txt\n",
      "mcts win rate: 1.0\n",
      "random win rate: 0.0\n",
      "mcts average return: 1.0\n",
      "random average return: -1.0\n",
      "\n",
      "mcts_firstopen_7x7.txt\n",
      "firstopen win rate: 0.15\n",
      "mcts win rate: 0.85\n",
      "firstopen average return: -0.7\n",
      "mcts average return: 0.7\n",
      "\n",
      "random_firstopen_7x7.txt\n",
      "firstopen win rate: 0.675\n",
      "random win rate: 0.325\n",
      "firstopen average return: 0.35\n",
      "random average return: -0.35\n",
      "\n"
     ]
    }
   ],
   "source": [
    "for filename in filenames:\n",
    "    df = pd.read_csv(filename)\n",
    "    odd_rows = list(range(1, df.shape[0], 2))\n",
    "    df.iloc[odd_rows] = df.iloc[odd_rows].apply(flip_agents, axis=1)\n",
    "\n",
    "    agent_p1 = df.iloc[0]['agent_p1']\n",
    "    agent_p2 = df.iloc[0]['agent_p2']\n",
    "    \n",
    "    print(filename)\n",
    "    print(f\"{agent_p1} win rate:\", df[df['return_p1'] == 1].shape[0] / df.shape[0])\n",
    "    print(f\"{agent_p2} win rate:\", df[df['return_p2'] == 1].shape[0] / df.shape[0])\n",
    "    print(f\"{agent_p1} average return:\", df['return_p1'].mean())\n",
    "    print(f\"{agent_p2} average return:\", df['return_p2'].mean())\n",
    "    print()"
   ]
  }
 ],
 "metadata": {
  "kernelspec": {
   "display_name": "Python 3",
   "language": "python",
   "name": "python3"
  },
  "language_info": {
   "codemirror_mode": {
    "name": "ipython",
    "version": 3
   },
   "file_extension": ".py",
   "mimetype": "text/x-python",
   "name": "python",
   "nbconvert_exporter": "python",
   "pygments_lexer": "ipython3",
   "version": "3.8.10"
  }
 },
 "nbformat": 4,
 "nbformat_minor": 4
}
